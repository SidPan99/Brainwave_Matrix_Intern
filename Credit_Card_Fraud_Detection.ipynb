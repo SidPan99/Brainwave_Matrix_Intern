{
  "nbformat": 4,
  "nbformat_minor": 0,
  "metadata": {
    "colab": {
      "provenance": []
    },
    "kernelspec": {
      "name": "python3",
      "display_name": "Python 3"
    },
    "language_info": {
      "name": "python"
    }
  },
  "cells": [
    {
      "cell_type": "code",
      "execution_count": null,
      "metadata": {
        "colab": {
          "base_uri": "https://localhost:8080/"
        },
        "id": "rXO2oxq6EMSs",
        "outputId": "117a32a0-c186-4872-c136-474f420da7bb"
      },
      "outputs": [
        {
          "output_type": "stream",
          "name": "stdout",
          "text": [
            "Loading the dataset...\n",
            "Training the model...\n"
          ]
        },
        {
          "output_type": "stream",
          "name": "stderr",
          "text": [
            "/usr/local/lib/python3.10/dist-packages/sklearn/base.py:474: FutureWarning: `BaseEstimator._validate_data` is deprecated in 1.6 and will be removed in 1.7. Use `sklearn.utils.validation.validate_data` instead. This function becomes public and is part of the scikit-learn developer API.\n",
            "  warnings.warn(\n",
            "/usr/local/lib/python3.10/dist-packages/sklearn/utils/_tags.py:354: FutureWarning: The SMOTE or classes from which it inherits use `_get_tags` and `_more_tags`. Please define the `__sklearn_tags__` method, or inherit from `sklearn.base.BaseEstimator` and/or other appropriate mixins such as `sklearn.base.TransformerMixin`, `sklearn.base.ClassifierMixin`, `sklearn.base.RegressorMixin`, and `sklearn.base.OutlierMixin`. From scikit-learn 1.7, not defining `__sklearn_tags__` will raise an error.\n",
            "  warnings.warn(\n"
          ]
        },
        {
          "output_type": "stream",
          "name": "stdout",
          "text": [
            "\n",
            "Model Performance:\n",
            "              precision    recall  f1-score   support\n",
            "\n",
            "         0.0       1.00      1.00      1.00      2954\n",
            "         1.0       1.00      1.00      1.00      2910\n",
            "\n",
            "    accuracy                           1.00      5864\n",
            "   macro avg       1.00      1.00      1.00      5864\n",
            "weighted avg       1.00      1.00      1.00      5864\n",
            "\n",
            "ROC AUC Score: 1.0\n"
          ]
        }
      ],
      "source": [
        "import pandas as pd\n",
        "import numpy as np\n",
        "from sklearn.model_selection import train_test_split\n",
        "from sklearn.preprocessing import StandardScaler\n",
        "from sklearn.ensemble import RandomForestClassifier\n",
        "from sklearn.metrics import classification_report, roc_auc_score\n",
        "from imblearn.over_sampling import SMOTE\n",
        "\n",
        "df=pd.read_csv(\"creditcard_2023.csv\")\n",
        "\n",
        "try:\n",
        "    # Step 1: Data Loading\n",
        "    print(\"Loading the dataset...\")\n",
        "\n",
        "    # Step 2: Preprocessing\n",
        "    target_column = \"Class\"  # Replace 'Class' with the correct target column if different\n",
        "    if target_column not in df.columns:\n",
        "        raise ValueError(\"Target column not found in the dataset.\")\n",
        "\n",
        "    # Fill missing values (if any)\n",
        "    df.fillna(df.median(), inplace=True)\n",
        "\n",
        "    # Separate features and target\n",
        "    X = df.drop(target_column, axis=1)\n",
        "    y = df[target_column]\n",
        "\n",
        "    # Scale numerical features\n",
        "    scaler = StandardScaler()\n",
        "    X_scaled = scaler.fit_transform(X)\n",
        "\n",
        "    # Handle class imbalance using SMOTE\n",
        "    smote = SMOTE(random_state=42)\n",
        "    X_resampled, y_resampled = smote.fit_resample(X_scaled, y)\n",
        "\n",
        "    # Split the data\n",
        "    X_train, X_test, y_train, y_test = train_test_split(\n",
        "        X_resampled, y_resampled, test_size=0.2, random_state=42\n",
        "    )\n",
        "\n",
        "    # Step 3: Train a Random Forest model\n",
        "    print(\"Training the model...\")\n",
        "    clf = RandomForestClassifier(random_state=42)\n",
        "    clf.fit(X_train, y_train)\n",
        "\n",
        "    # Step 4: Evaluate the model\n",
        "    y_pred = clf.predict(X_test)\n",
        "    y_pred_proba = clf.predict_proba(X_test)[:, 1]\n",
        "\n",
        "    print(\"\\nModel Performance:\")\n",
        "    print(classification_report(y_test, y_pred))\n",
        "    print(\"ROC AUC Score:\", roc_auc_score(y_test, y_pred_proba))\n",
        "\n",
        "except FileNotFoundError:\n",
        "    print(\"File not found. Please check the file path and try again.\")\n",
        "except ValueError as e:\n",
        "    print(f\"ValueError: {e}\")\n",
        "except Exception as e:\n",
        "    print(f\"An error occurred: {e}\")"
      ]
    }
  ]
}